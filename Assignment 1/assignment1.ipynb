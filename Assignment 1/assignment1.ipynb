{
 "cells": [
  {
   "cell_type": "markdown",
   "metadata": {},
   "source": [
    "# Aprendizagem Automática - Assignment 1 "
   ]
  },
  {
   "cell_type": "code",
   "execution_count": 2,
   "metadata": {},
   "outputs": [],
   "source": [
    "# Imports\n",
    "import pandas as pd\n",
    "import numpy as np\n",
    "import matplotlib.pyplot as plt\n",
    "\n",
    "# Models and selection methods\n",
    "from sklearn.tree import DecisionTreeRegressor, DecisionTreeClassifier, plot_tree\n",
    "from sklearn.model_selection import KFold, train_test_split\n",
    "from sklearn.linear_model import LinearRegression\n",
    "from sklearn.linear_model import Ridge, Lasso\n",
    "\n",
    "# Binary classifier metrics\n",
    "from sklearn.metrics import precision_score, recall_score, f1_score, matthews_corrcoef, confusion_matrix\n",
    "\n",
    "# Linear regression metrics\n",
    "from sklearn.metrics import explained_variance_score, mean_squared_error, max_error, mean_absolute_error\n",
    "from scipy.stats import pearsonr\n",
    "\n",
    "def printRegStatistics(truth, preds):\n",
    "    print(\"The RVE is: \", explained_variance_score(truth, preds))\n",
    "    print(\"The rmse is: \", mean_squared_error(truth, preds, squared=False))\n",
    "    corr, pval = pearsonr(truth, preds)\n",
    "    print(\"The Correlation Score is is: %6.4f (p-value=%e)\\n\"%(corr,pval))\n",
    "    print(\"The Maximum Error is is: \", max_error(truth, preds))\n",
    "    print(\"The Mean Absolute Error is: \", mean_absolute_error(truth, preds))"
   ]
  },
  {
   "cell_type": "markdown",
   "metadata": {},
   "source": [
    "Importação do dataset parkinsons"
   ]
  },
  {
   "cell_type": "code",
   "execution_count": 3,
   "metadata": {},
   "outputs": [
    {
     "data": {
      "text/html": [
       "<div>\n",
       "<style scoped>\n",
       "    .dataframe tbody tr th:only-of-type {\n",
       "        vertical-align: middle;\n",
       "    }\n",
       "\n",
       "    .dataframe tbody tr th {\n",
       "        vertical-align: top;\n",
       "    }\n",
       "\n",
       "    .dataframe thead th {\n",
       "        text-align: right;\n",
       "    }\n",
       "</style>\n",
       "<table border=\"1\" class=\"dataframe\">\n",
       "  <thead>\n",
       "    <tr style=\"text-align: right;\">\n",
       "      <th></th>\n",
       "      <th>subject#</th>\n",
       "      <th>age</th>\n",
       "      <th>sex</th>\n",
       "      <th>test_time</th>\n",
       "      <th>motor_UPDRS</th>\n",
       "      <th>total_UPDRS</th>\n",
       "      <th>Jitter(%)</th>\n",
       "      <th>Jitter(Abs)</th>\n",
       "      <th>Jitter:RAP</th>\n",
       "      <th>Jitter:PPQ5</th>\n",
       "      <th>...</th>\n",
       "      <th>Shimmer(dB)</th>\n",
       "      <th>Shimmer:APQ3</th>\n",
       "      <th>Shimmer:APQ5</th>\n",
       "      <th>Shimmer:APQ11</th>\n",
       "      <th>Shimmer:DDA</th>\n",
       "      <th>NHR</th>\n",
       "      <th>HNR</th>\n",
       "      <th>RPDE</th>\n",
       "      <th>DFA</th>\n",
       "      <th>PPE</th>\n",
       "    </tr>\n",
       "  </thead>\n",
       "  <tbody>\n",
       "    <tr>\n",
       "      <th>0</th>\n",
       "      <td>1</td>\n",
       "      <td>72</td>\n",
       "      <td>0</td>\n",
       "      <td>5.6431</td>\n",
       "      <td>28.199</td>\n",
       "      <td>34.398</td>\n",
       "      <td>0.00662</td>\n",
       "      <td>0.000034</td>\n",
       "      <td>0.00401</td>\n",
       "      <td>0.00317</td>\n",
       "      <td>...</td>\n",
       "      <td>0.230</td>\n",
       "      <td>0.01438</td>\n",
       "      <td>0.01309</td>\n",
       "      <td>0.01662</td>\n",
       "      <td>0.04314</td>\n",
       "      <td>0.014290</td>\n",
       "      <td>21.640</td>\n",
       "      <td>0.41888</td>\n",
       "      <td>0.54842</td>\n",
       "      <td>0.16006</td>\n",
       "    </tr>\n",
       "    <tr>\n",
       "      <th>1</th>\n",
       "      <td>1</td>\n",
       "      <td>72</td>\n",
       "      <td>0</td>\n",
       "      <td>12.6660</td>\n",
       "      <td>28.447</td>\n",
       "      <td>34.894</td>\n",
       "      <td>0.00300</td>\n",
       "      <td>0.000017</td>\n",
       "      <td>0.00132</td>\n",
       "      <td>0.00150</td>\n",
       "      <td>...</td>\n",
       "      <td>0.179</td>\n",
       "      <td>0.00994</td>\n",
       "      <td>0.01072</td>\n",
       "      <td>0.01689</td>\n",
       "      <td>0.02982</td>\n",
       "      <td>0.011112</td>\n",
       "      <td>27.183</td>\n",
       "      <td>0.43493</td>\n",
       "      <td>0.56477</td>\n",
       "      <td>0.10810</td>\n",
       "    </tr>\n",
       "    <tr>\n",
       "      <th>2</th>\n",
       "      <td>1</td>\n",
       "      <td>72</td>\n",
       "      <td>0</td>\n",
       "      <td>19.6810</td>\n",
       "      <td>28.695</td>\n",
       "      <td>35.389</td>\n",
       "      <td>0.00481</td>\n",
       "      <td>0.000025</td>\n",
       "      <td>0.00205</td>\n",
       "      <td>0.00208</td>\n",
       "      <td>...</td>\n",
       "      <td>0.181</td>\n",
       "      <td>0.00734</td>\n",
       "      <td>0.00844</td>\n",
       "      <td>0.01458</td>\n",
       "      <td>0.02202</td>\n",
       "      <td>0.020220</td>\n",
       "      <td>23.047</td>\n",
       "      <td>0.46222</td>\n",
       "      <td>0.54405</td>\n",
       "      <td>0.21014</td>\n",
       "    </tr>\n",
       "    <tr>\n",
       "      <th>3</th>\n",
       "      <td>1</td>\n",
       "      <td>72</td>\n",
       "      <td>0</td>\n",
       "      <td>25.6470</td>\n",
       "      <td>28.905</td>\n",
       "      <td>35.810</td>\n",
       "      <td>0.00528</td>\n",
       "      <td>0.000027</td>\n",
       "      <td>0.00191</td>\n",
       "      <td>0.00264</td>\n",
       "      <td>...</td>\n",
       "      <td>0.327</td>\n",
       "      <td>0.01106</td>\n",
       "      <td>0.01265</td>\n",
       "      <td>0.01963</td>\n",
       "      <td>0.03317</td>\n",
       "      <td>0.027837</td>\n",
       "      <td>24.445</td>\n",
       "      <td>0.48730</td>\n",
       "      <td>0.57794</td>\n",
       "      <td>0.33277</td>\n",
       "    </tr>\n",
       "    <tr>\n",
       "      <th>4</th>\n",
       "      <td>1</td>\n",
       "      <td>72</td>\n",
       "      <td>0</td>\n",
       "      <td>33.6420</td>\n",
       "      <td>29.187</td>\n",
       "      <td>36.375</td>\n",
       "      <td>0.00335</td>\n",
       "      <td>0.000020</td>\n",
       "      <td>0.00093</td>\n",
       "      <td>0.00130</td>\n",
       "      <td>...</td>\n",
       "      <td>0.176</td>\n",
       "      <td>0.00679</td>\n",
       "      <td>0.00929</td>\n",
       "      <td>0.01819</td>\n",
       "      <td>0.02036</td>\n",
       "      <td>0.011625</td>\n",
       "      <td>26.126</td>\n",
       "      <td>0.47188</td>\n",
       "      <td>0.56122</td>\n",
       "      <td>0.19361</td>\n",
       "    </tr>\n",
       "    <tr>\n",
       "      <th>...</th>\n",
       "      <td>...</td>\n",
       "      <td>...</td>\n",
       "      <td>...</td>\n",
       "      <td>...</td>\n",
       "      <td>...</td>\n",
       "      <td>...</td>\n",
       "      <td>...</td>\n",
       "      <td>...</td>\n",
       "      <td>...</td>\n",
       "      <td>...</td>\n",
       "      <td>...</td>\n",
       "      <td>...</td>\n",
       "      <td>...</td>\n",
       "      <td>...</td>\n",
       "      <td>...</td>\n",
       "      <td>...</td>\n",
       "      <td>...</td>\n",
       "      <td>...</td>\n",
       "      <td>...</td>\n",
       "      <td>...</td>\n",
       "      <td>...</td>\n",
       "    </tr>\n",
       "    <tr>\n",
       "      <th>5870</th>\n",
       "      <td>42</td>\n",
       "      <td>61</td>\n",
       "      <td>0</td>\n",
       "      <td>142.7900</td>\n",
       "      <td>22.485</td>\n",
       "      <td>33.485</td>\n",
       "      <td>0.00406</td>\n",
       "      <td>0.000031</td>\n",
       "      <td>0.00167</td>\n",
       "      <td>0.00168</td>\n",
       "      <td>...</td>\n",
       "      <td>0.160</td>\n",
       "      <td>0.00973</td>\n",
       "      <td>0.01133</td>\n",
       "      <td>0.01549</td>\n",
       "      <td>0.02920</td>\n",
       "      <td>0.025137</td>\n",
       "      <td>22.369</td>\n",
       "      <td>0.64215</td>\n",
       "      <td>0.55314</td>\n",
       "      <td>0.21367</td>\n",
       "    </tr>\n",
       "    <tr>\n",
       "      <th>5871</th>\n",
       "      <td>42</td>\n",
       "      <td>61</td>\n",
       "      <td>0</td>\n",
       "      <td>149.8400</td>\n",
       "      <td>21.988</td>\n",
       "      <td>32.988</td>\n",
       "      <td>0.00297</td>\n",
       "      <td>0.000025</td>\n",
       "      <td>0.00119</td>\n",
       "      <td>0.00147</td>\n",
       "      <td>...</td>\n",
       "      <td>0.215</td>\n",
       "      <td>0.01052</td>\n",
       "      <td>0.01277</td>\n",
       "      <td>0.01904</td>\n",
       "      <td>0.03157</td>\n",
       "      <td>0.011927</td>\n",
       "      <td>22.886</td>\n",
       "      <td>0.52598</td>\n",
       "      <td>0.56518</td>\n",
       "      <td>0.12621</td>\n",
       "    </tr>\n",
       "    <tr>\n",
       "      <th>5872</th>\n",
       "      <td>42</td>\n",
       "      <td>61</td>\n",
       "      <td>0</td>\n",
       "      <td>156.8200</td>\n",
       "      <td>21.495</td>\n",
       "      <td>32.495</td>\n",
       "      <td>0.00349</td>\n",
       "      <td>0.000025</td>\n",
       "      <td>0.00152</td>\n",
       "      <td>0.00187</td>\n",
       "      <td>...</td>\n",
       "      <td>0.244</td>\n",
       "      <td>0.01371</td>\n",
       "      <td>0.01456</td>\n",
       "      <td>0.01877</td>\n",
       "      <td>0.04112</td>\n",
       "      <td>0.017701</td>\n",
       "      <td>25.065</td>\n",
       "      <td>0.47792</td>\n",
       "      <td>0.57888</td>\n",
       "      <td>0.14157</td>\n",
       "    </tr>\n",
       "    <tr>\n",
       "      <th>5873</th>\n",
       "      <td>42</td>\n",
       "      <td>61</td>\n",
       "      <td>0</td>\n",
       "      <td>163.7300</td>\n",
       "      <td>21.007</td>\n",
       "      <td>32.007</td>\n",
       "      <td>0.00281</td>\n",
       "      <td>0.000020</td>\n",
       "      <td>0.00128</td>\n",
       "      <td>0.00151</td>\n",
       "      <td>...</td>\n",
       "      <td>0.131</td>\n",
       "      <td>0.00693</td>\n",
       "      <td>0.00870</td>\n",
       "      <td>0.01307</td>\n",
       "      <td>0.02078</td>\n",
       "      <td>0.007984</td>\n",
       "      <td>24.422</td>\n",
       "      <td>0.56865</td>\n",
       "      <td>0.56327</td>\n",
       "      <td>0.14204</td>\n",
       "    </tr>\n",
       "    <tr>\n",
       "      <th>5874</th>\n",
       "      <td>42</td>\n",
       "      <td>61</td>\n",
       "      <td>0</td>\n",
       "      <td>170.7300</td>\n",
       "      <td>20.513</td>\n",
       "      <td>31.513</td>\n",
       "      <td>0.00282</td>\n",
       "      <td>0.000021</td>\n",
       "      <td>0.00135</td>\n",
       "      <td>0.00166</td>\n",
       "      <td>...</td>\n",
       "      <td>0.171</td>\n",
       "      <td>0.00946</td>\n",
       "      <td>0.01154</td>\n",
       "      <td>0.01470</td>\n",
       "      <td>0.02839</td>\n",
       "      <td>0.008172</td>\n",
       "      <td>23.259</td>\n",
       "      <td>0.58608</td>\n",
       "      <td>0.57077</td>\n",
       "      <td>0.15336</td>\n",
       "    </tr>\n",
       "  </tbody>\n",
       "</table>\n",
       "<p>5875 rows × 22 columns</p>\n",
       "</div>"
      ],
      "text/plain": [
       "      subject#  age  sex  test_time  motor_UPDRS  total_UPDRS  Jitter(%)  \\\n",
       "0            1   72    0     5.6431       28.199       34.398    0.00662   \n",
       "1            1   72    0    12.6660       28.447       34.894    0.00300   \n",
       "2            1   72    0    19.6810       28.695       35.389    0.00481   \n",
       "3            1   72    0    25.6470       28.905       35.810    0.00528   \n",
       "4            1   72    0    33.6420       29.187       36.375    0.00335   \n",
       "...        ...  ...  ...        ...          ...          ...        ...   \n",
       "5870        42   61    0   142.7900       22.485       33.485    0.00406   \n",
       "5871        42   61    0   149.8400       21.988       32.988    0.00297   \n",
       "5872        42   61    0   156.8200       21.495       32.495    0.00349   \n",
       "5873        42   61    0   163.7300       21.007       32.007    0.00281   \n",
       "5874        42   61    0   170.7300       20.513       31.513    0.00282   \n",
       "\n",
       "      Jitter(Abs)  Jitter:RAP  Jitter:PPQ5  ...  Shimmer(dB)  Shimmer:APQ3  \\\n",
       "0        0.000034     0.00401      0.00317  ...        0.230       0.01438   \n",
       "1        0.000017     0.00132      0.00150  ...        0.179       0.00994   \n",
       "2        0.000025     0.00205      0.00208  ...        0.181       0.00734   \n",
       "3        0.000027     0.00191      0.00264  ...        0.327       0.01106   \n",
       "4        0.000020     0.00093      0.00130  ...        0.176       0.00679   \n",
       "...           ...         ...          ...  ...          ...           ...   \n",
       "5870     0.000031     0.00167      0.00168  ...        0.160       0.00973   \n",
       "5871     0.000025     0.00119      0.00147  ...        0.215       0.01052   \n",
       "5872     0.000025     0.00152      0.00187  ...        0.244       0.01371   \n",
       "5873     0.000020     0.00128      0.00151  ...        0.131       0.00693   \n",
       "5874     0.000021     0.00135      0.00166  ...        0.171       0.00946   \n",
       "\n",
       "      Shimmer:APQ5  Shimmer:APQ11  Shimmer:DDA       NHR     HNR     RPDE  \\\n",
       "0          0.01309        0.01662      0.04314  0.014290  21.640  0.41888   \n",
       "1          0.01072        0.01689      0.02982  0.011112  27.183  0.43493   \n",
       "2          0.00844        0.01458      0.02202  0.020220  23.047  0.46222   \n",
       "3          0.01265        0.01963      0.03317  0.027837  24.445  0.48730   \n",
       "4          0.00929        0.01819      0.02036  0.011625  26.126  0.47188   \n",
       "...            ...            ...          ...       ...     ...      ...   \n",
       "5870       0.01133        0.01549      0.02920  0.025137  22.369  0.64215   \n",
       "5871       0.01277        0.01904      0.03157  0.011927  22.886  0.52598   \n",
       "5872       0.01456        0.01877      0.04112  0.017701  25.065  0.47792   \n",
       "5873       0.00870        0.01307      0.02078  0.007984  24.422  0.56865   \n",
       "5874       0.01154        0.01470      0.02839  0.008172  23.259  0.58608   \n",
       "\n",
       "          DFA      PPE  \n",
       "0     0.54842  0.16006  \n",
       "1     0.56477  0.10810  \n",
       "2     0.54405  0.21014  \n",
       "3     0.57794  0.33277  \n",
       "4     0.56122  0.19361  \n",
       "...       ...      ...  \n",
       "5870  0.55314  0.21367  \n",
       "5871  0.56518  0.12621  \n",
       "5872  0.57888  0.14157  \n",
       "5873  0.56327  0.14204  \n",
       "5874  0.57077  0.15336  \n",
       "\n",
       "[5875 rows x 22 columns]"
      ]
     },
     "execution_count": 3,
     "metadata": {},
     "output_type": "execute_result"
    }
   ],
   "source": [
    "parkinsons_data = pd.read_csv(\"parkinsons_updrs.data\")\n",
    "parkinsons_data"
   ]
  },
  {
   "cell_type": "markdown",
   "metadata": {},
   "source": [
    "## Objective 1\n",
    "Preparação do dataset"
   ]
  },
  {
   "cell_type": "code",
   "execution_count": 4,
   "metadata": {},
   "outputs": [],
   "source": [
    "# Copiar o dataframe original\n",
    "parkinsons_objective1 = parkinsons_data.copy()\n",
    "\n",
    "# Remover a coluna total_UPDRS e subject#\n",
    "parkinsons_objective1.drop(columns=[\"subject#\",\"total_UPDRS\"], inplace=True)\n",
    "\n",
    "# Divisão do dataset em variaveis independentes e dependentes\n",
    "X_obj1 = parkinsons_objective1[set(parkinsons_objective1.columns) - {\"motor_UPDRS\"}]\n",
    "y_obj1 = parkinsons_objective1[\"motor_UPDRS\"]\n",
    "\n",
    "# Converter para np array\n",
    "Xc_obj1 = X_obj1.to_numpy()\n",
    "yc_obj1 = y_obj1.to_numpy()\n",
    "\n",
    "# Divisão do dataset em training set e independent validation set\n",
    "X_obj1_TRAIN, X_obj1_IVS, y_obj1_TRAIN, y_obj1_IVS = train_test_split(Xc_obj1, yc_obj1, test_size=0.10, random_state=314)"
   ]
  },
  {
   "cell_type": "markdown",
   "metadata": {},
   "source": [
    "### Fitting e validação dos modelos"
   ]
  },
  {
   "cell_type": "markdown",
   "metadata": {},
   "source": [
    "N-Fold split"
   ]
  },
  {
   "cell_type": "code",
   "execution_count": 5,
   "metadata": {},
   "outputs": [
    {
     "data": {
      "text/plain": [
       "16"
      ]
     },
     "execution_count": 5,
     "metadata": {},
     "output_type": "execute_result"
    }
   ],
   "source": [
    "kf1 = KFold(n_splits=16, shuffle=True, random_state = 274)\n",
    "kf1.get_n_splits(X_obj1_TRAIN)"
   ]
  },
  {
   "cell_type": "markdown",
   "metadata": {},
   "source": [
    "##### Decision Tree Regressor"
   ]
  },
  {
   "cell_type": "markdown",
   "metadata": {},
   "source": [
    "N-Cross validation"
   ]
  },
  {
   "cell_type": "code",
   "execution_count": 6,
   "metadata": {},
   "outputs": [],
   "source": [
    "# NOTA: é preciso fazer isto para diferentes hyperparameters e guardar\n",
    "#       as metricas para cada um, assim podemos comparar depois e determinar\n",
    "#       qual os melhores hyperparameters antes de validarmos o modelo com os\n",
    "#       dados IVS. Depois de fazermos isto para o decision tree regressor, temos\n",
    "#       de o fazer para o linear regressor que vamos dar na aula de amanha"
   ]
  },
  {
   "cell_type": "code",
   "execution_count": 7,
   "metadata": {},
   "outputs": [],
   "source": [
    "TRUTH=None\n",
    "PREDS=None\n",
    "\n",
    "\n",
    "for train_index, test_index in kf1.split(X_obj1_TRAIN):\n",
    "    X_train, X_test = X_obj1_TRAIN[train_index], X_obj1_TRAIN[test_index]\n",
    "    y_train, y_test = y_obj1_TRAIN[train_index], y_obj1_TRAIN[test_index]\n",
    "    dtr_obj1 = DecisionTreeRegressor()\n",
    "    dtr_obj1.fit(X_train, y_train)\n",
    "    preds = dtr_obj1.predict(X_test)\n",
    "    if TRUTH is None:\n",
    "        PREDS=preds\n",
    "        TRUTH=y_test\n",
    "    else:\n",
    "        PREDS=np.hstack((PREDS, preds))\n",
    "        TRUTH=np.hstack((TRUTH, y_test))\n",
    "        \n"
   ]
  },
  {
   "cell_type": "code",
   "execution_count": 8,
   "metadata": {},
   "outputs": [
    {
     "name": "stdout",
     "output_type": "stream",
     "text": [
      "The RVE is:  0.9135783283527059\n",
      "The rmse is:  2.3918429824749055\n",
      "The Correlation Score is is: 0.9567 (p-value=0.000000e+00)\n",
      "\n",
      "The Maximum Error is is:  27.676000000000002\n",
      "The Mean Absolute Error is:  0.7060779837336865\n"
     ]
    }
   ],
   "source": [
    "    printRegStatistics(TRUTH,PREDS)"
   ]
  },
  {
   "cell_type": "code",
   "execution_count": 9,
   "metadata": {},
   "outputs": [
    {
     "data": {
      "image/png": "[encoded data removed]",
      "text/plain": [
       "<Figure size 500x500 with 1 Axes>"
      ]
     },
     "metadata": {},
     "output_type": "display_data"
    }
   ],
   "source": [
    "plt.figure(figsize=(5,5))\n",
    "plt.scatter(PREDS, TRUTH)\n",
    "plt.plot((5, 40), (5,40), c=\"r\")\n",
    "plt.grid()\n",
    "plt.show()"
   ]
  },
  {
   "cell_type": "markdown",
   "metadata": {},
   "source": [
    "## Modelos Lineares"
   ]
  },
  {
   "cell_type": "markdown",
   "metadata": {},
   "source": [
    "Regressão Linear"
   ]
  },
  {
   "cell_type": "code",
   "execution_count": 28,
   "metadata": {},
   "outputs": [
    {
     "name": "stdout",
     "output_type": "stream",
     "text": [
      "The bias is:  30.890403756468015\n",
      "The other parameters are: \n",
      "\t B1 ->  3373.374\n",
      "\t B2 ->   -12.944\n",
      "\t B3 ->  8709.602\n",
      "\t B4 ->     0.192\n",
      "\t B5 ->    -1.358\n",
      "\t B6 ->  -106.013\n",
      "\t B7 ->  -670.162\n",
      "\t B8 ->   201.912\n",
      "\t B9 ->   778.739\n",
      "\t B10 ->     0.607\n",
      "\t B11 ->    -0.457\n",
      "\t B12 ->    -9.604\n",
      "\t B13 ->   -23.138\n",
      "\t B14 -> -10346.487\n",
      "\t B15 -> -25920.666\n",
      "\t B16 ->     0.012\n",
      "\t B17 ->    58.704\n",
      "\t B18 -> -88332.472\n",
      "\t B19 ->    16.644\n",
      "The RVE is:  0.0414280091438618\n",
      "The rmse is:  7.8916791571722005\n",
      "The Correlation Score is is: 0.2858 (p-value=1.627410e-12)\n",
      "\n",
      "The Maximum Error is is:  51.80489751239841\n",
      "The Mean Absolute Error is:  6.485911856732683\n"
     ]
    },
    {
     "data": {
      "image/png": "[encoded data removed]",
      "text/plain": [
       "<Figure size 700x700 with 1 Axes>"
      ]
     },
     "metadata": {},
     "output_type": "display_data"
    }
   ],
   "source": [
    "reg = LinearRegression().fit(X_obj1_TRAIN, y_obj1_TRAIN)  #Obtivemos a mesma coisa que anteriormente\n",
    "#reg.score(X_train, y_train)\n",
    "\n",
    "print(\"The bias is: \",  reg.intercept_)\n",
    "print(\"The other parameters are: \")\n",
    "for i, beta in enumerate(reg.coef_):\n",
    "    print(\"\\t B%d -> %9.3f\"% (i+1, beta))\n",
    "\n",
    "preds=reg.predict(X_obj1_IVS)\n",
    "printRegStatistics(y_obj1_IVS,preds)\n",
    "\n",
    "plt.figure(figsize=(7,7))\n",
    "plt.scatter(preds, y_obj1_IVS)\n",
    "plt.grid()\n",
    "plt.plot([10,35], [10,35], c=\"r\")\n",
    "plt.show()"
   ]
  },
  {
   "cell_type": "markdown",
   "metadata": {},
   "source": [
    "Ridge"
   ]
  },
  {
   "cell_type": "code",
   "execution_count": 18,
   "metadata": {},
   "outputs": [
    {
     "data": {
      "image/png": "[encoded data removed]",
      "text/plain": [
       "<Figure size 640x480 with 1 Axes>"
      ]
     },
     "metadata": {},
     "output_type": "display_data"
    }
   ],
   "source": [
    "rmse_train = []\n",
    "rmse_test = []\n",
    "alphas=[0.01*i for i in range(1,30)]\n",
    "for alpha in alphas:\n",
    "    ridge = Ridge(alpha=alpha, max_iter=100000).fit(X_obj1_TRAIN, y_obj1_TRAIN)\n",
    "    preds_tr=ridge.predict(X_obj1_TRAIN)\n",
    "    preds_te=ridge.predict(X_obj1_IVS)\n",
    "    rmse_train.append(mean_squared_error(y_obj1_TRAIN, preds_tr, squared=False))\n",
    "    rmse_test.append(mean_squared_error(y_obj1_IVS, preds_te, squared=False))\n",
    "    \n",
    "plt.plot(alphas, rmse_train, label=\"rmse Train\", marker='o')    \n",
    "plt.plot(alphas, rmse_test, label=\"rmse Test\", marker='o')    \n",
    "plt.grid()\n",
    "plt.legend()\n",
    "plt.show() #O melhor alpha é 0.2\n"
   ]
  },
  {
   "cell_type": "code",
   "execution_count": 22,
   "metadata": {},
   "outputs": [
    {
     "name": "stdout",
     "output_type": "stream",
     "text": [
      "The bias is:  31.265026749497245\n",
      "The other parameters are: \n",
      "\t B01 ->   -39.002\n",
      "\t B02 ->   -17.219\n",
      "\t B03 ->    15.431\n",
      "\t B04 ->     0.197\n",
      "\t B05 ->    -0.288\n",
      "\t B06 ->   -10.136\n",
      "\t B07 ->     4.227\n",
      "\t B08 ->     8.493\n",
      "\t B09 ->     8.232\n",
      "\t B10 ->    -0.423\n",
      "\t B11 ->    -0.405\n",
      "\t B12 ->     1.077\n",
      "\t B13 ->   -25.566\n",
      "\t B14 ->   -13.002\n",
      "\t B15 ->     5.137\n",
      "\t B16 ->     0.011\n",
      "\t B17 ->    45.782\n",
      "\t B18 ->    -0.282\n",
      "\t B19 ->    13.343\n",
      "The RVE is:  0.1145029450099061\n",
      "The rmse is:  7.585693033652075\n",
      "The Correlation Score is is: 0.3401 (p-value=2.196446e-17)\n",
      "\n",
      "The Maximum Error is is:  20.00275865191518\n",
      "The Mean Absolute Error is:  6.433933185474149\n"
     ]
    }
   ],
   "source": [
    "#Então agora usamos o ridge para alpha=0.2\n",
    "\n",
    "ridge = Ridge(alpha=0.2, max_iter=9999999).fit(X_obj1_TRAIN, y_obj1_TRAIN)  #Em alpha=10, estamos overpenalizing\n",
    "\n",
    "print(\"The bias is: \",  ridge.intercept_)\n",
    "print(\"The other parameters are: \")\n",
    "for i, beta in enumerate(ridge.coef_):\n",
    "    print(\"\\t B%02d -> %9.3f\"% (i+1, beta))\n",
    "\n",
    "preds=ridge.predict(X_obj1_IVS)\n",
    "printRegStatistics(y_obj1_IVS, preds)"
   ]
  },
  {
   "cell_type": "markdown",
   "metadata": {},
   "source": [
    "LASSO"
   ]
  },
  {
   "cell_type": "code",
   "execution_count": 26,
   "metadata": {},
   "outputs": [
    {
     "data": {
      "image/png": "[encoded data removed]",
      "text/plain": [
       "<Figure size 640x480 with 1 Axes>"
      ]
     },
     "metadata": {},
     "output_type": "display_data"
    }
   ],
   "source": [
    "rmse_train = []\n",
    "rmse_test = []\n",
    "alphas=[0.01*i for i in range(1,30)]\n",
    "for alpha in alphas:\n",
    "    L = Lasso(alpha=alpha, max_iter=100000).fit(X_obj1_TRAIN, y_obj1_TRAIN)\n",
    "    preds_tr=L.predict(X_obj1_TRAIN)\n",
    "    preds_te=L.predict(X_obj1_IVS)\n",
    "    rmse_train.append(mean_squared_error(y_obj1_TRAIN, preds_tr, squared=False))\n",
    "    rmse_test.append(mean_squared_error(y_obj1_IVS, preds_te, squared=False))\n",
    "    \n",
    "plt.plot(alphas, rmse_train, label=\"rmse Train\",marker='o')    \n",
    "plt.plot(alphas, rmse_test, label=\"rmse Test\",marker='o')    \n",
    "plt.grid()\n",
    "plt.legend()\n",
    "plt.show() # o melhor alpha é 0.08\n"
   ]
  },
  {
   "cell_type": "code",
   "execution_count": 27,
   "metadata": {},
   "outputs": [
    {
     "name": "stdout",
     "output_type": "stream",
     "text": [
      "The RVE is:  0.08004407934004554\n",
      "The rmse is:  7.732924177256134\n",
      "The Correlation Score is is: 0.2851 (p-value=1.848780e-12)\n",
      "\n",
      "The Maximum Error is is:  18.54930341151541\n",
      "The Mean Absolute Error is:  6.642987937840032\n"
     ]
    }
   ],
   "source": [
    "#E agora aplicamos o LASSO para alfa=0.08\n",
    "\n",
    "L = Lasso(alpha=0.08, max_iter=9999999).fit(X_obj1_TRAIN, y_obj1_TRAIN)\n",
    "preds=L.predict(X_obj1_IVS)\n",
    "printRegStatistics(y_obj1_IVS, preds)"
   ]
  },
  {
   "cell_type": "markdown",
   "metadata": {},
   "source": [
    "## Objective 2\n",
    "Preparação do dataset"
   ]
  },
  {
   "cell_type": "code",
   "execution_count": 30,
   "metadata": {
    "scrolled": true
   },
   "outputs": [],
   "source": [
    "# Copiar o dataframe original\n",
    "parkinsons_objective2 = parkinsons_data.copy()\n",
    "# Remover a coluna subject# e motor_UPDRS\n",
    "parkinsons_objective2.drop(columns=[\"subject#\",\"motor_UPDRS\"], inplace=True)\n",
    "# Transformação de total_UPDRS em variavel binaria\n",
    "parkinsons_objective2[\"total_UPDRS\"] = parkinsons_objective2[\"total_UPDRS\"].apply(lambda x : 1 if x > 40 else 0)\n",
    "\n",
    "X_obj2 = parkinsons_objective2[set(parkinsons_objective2.columns) - {\"total_UPDRS\"}]\n",
    "y_obj2 = parkinsons_objective2[\"total_UPDRS\"]\n",
    "\n",
    "# Converter para np array\n",
    "Xc_obj2 = X_obj2.to_numpy()\n",
    "yc_obj2 = y_obj2.to_numpy()\n",
    "\n",
    "# Divisprint(y_obj2)ão do dataset em training set e independent validation set\n",
    "X_obj2_TRAIN, X_obj2_IVS, y_obj2_TRAIN, y_obj2_IVS = train_test_split(Xc_obj2, yc_obj2, test_size=0.10, random_state=314)"
   ]
  },
  {
   "cell_type": "markdown",
   "metadata": {},
   "source": [
    "### Fitting e validação dos modelos"
   ]
  },
  {
   "cell_type": "markdown",
   "metadata": {},
   "source": [
    "N-Fold Split"
   ]
  },
  {
   "cell_type": "code",
   "execution_count": 31,
   "metadata": {},
   "outputs": [
    {
     "data": {
      "text/plain": [
       "16"
      ]
     },
     "execution_count": 31,
     "metadata": {},
     "output_type": "execute_result"
    }
   ],
   "source": [
    "kf2 = KFold(n_splits=16, shuffle=True, random_state = 274)\n",
    "kf2.get_n_splits(X_obj2_TRAIN)"
   ]
  },
  {
   "cell_type": "markdown",
   "metadata": {},
   "source": [
    "##### Decision Tree Classifier"
   ]
  },
  {
   "cell_type": "markdown",
   "metadata": {},
   "source": [
    "N-Cross validation"
   ]
  },
  {
   "cell_type": "code",
   "execution_count": null,
   "metadata": {},
   "outputs": [],
   "source": [
    "# NOTA: é preciso fazer isto para diferentes hyperparameters e guardar\n",
    "#       as metricas para cada um, assim podemos comparar depois e determinar\n",
    "#       qual os melhores hyperparameters antes de validarmos o modelo com os\n",
    "#       dados IVS. \n",
    "#       Para além disto, devemos testar tanto com um critério de entropia,\n",
    "#       bem como de Gini.\n",
    "\n",
    "# Exemplos: min_samples_leaf, max_depth..."
   ]
  },
  {
   "cell_type": "code",
   "execution_count": 32,
   "metadata": {},
   "outputs": [],
   "source": [
    "TRUTH=None\n",
    "PREDS=None\n",
    "\n",
    "for train_index, test_index in kf1.split(X_obj1_TRAIN):\n",
    "    X_train, X_test = X_obj2_TRAIN[train_index], X_obj2_TRAIN[test_index]\n",
    "    y_train, y_test = y_obj2_TRAIN[train_index], y_obj2_TRAIN[test_index]\n",
    "    \n",
    "    dtr_obj2 = DecisionTreeClassifier()\n",
    "    dtr_obj2.fit(X_train, y_train)\n",
    "    \n",
    "    preds = dtr_obj2.predict(X_test)\n",
    "    if TRUTH is None:\n",
    "        PREDS=preds\n",
    "        TRUTH=y_test\n",
    "    else:\n",
    "        PREDS=np.hstack((PREDS, preds))\n",
    "        TRUTH=np.hstack((TRUTH, y_test))"
   ]
  },
  {
   "cell_type": "code",
   "execution_count": null,
   "metadata": {},
   "outputs": [
    {
     "name": "stdout",
     "output_type": "stream",
     "text": [
      "The RVE is:  0.9374706116304944\n",
      "The rmse is:  0.09428536220034696\n",
      "The Correlation Score is is: 0.9686 (p-value=0.000000e+00)\n",
      "\n",
      "The Maximum Error is is:  1\n",
      "The Mean Absolute Error is:  0.008889729525250615\n"
     ]
    }
   ],
   "source": [
    "printRegStatistics(TRUTH,PREDS)"
   ]
  },
  {
   "cell_type": "markdown",
   "metadata": {},
   "source": []
  }
 ],
 "metadata": {
  "kernelspec": {
   "display_name": "Python 3.7.4 64-bit",
   "language": "python",
   "name": "python3"
  },
  "language_info": {
   "codemirror_mode": {
    "name": "ipython",
    "version": 3
   },
   "file_extension": ".py",
   "mimetype": "text/x-python",
   "name": "python",
   "nbconvert_exporter": "python",
   "pygments_lexer": "ipython3",
   "version": "3.7.4"
  },
  "vscode": {
   "interpreter": {
    "hash": "0673ab1abe7352575dcd21e16044386aa979e67e7d18febbdc22840960b7f25f"
   }
  }
 },
 "nbformat": 4,
 "nbformat_minor": 2
}
